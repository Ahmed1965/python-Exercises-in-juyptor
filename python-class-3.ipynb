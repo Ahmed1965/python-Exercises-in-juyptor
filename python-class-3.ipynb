{
 "cells": [
  {
   "cell_type": "markdown",
   "id": "c5357eef",
   "metadata": {},
   "source": [
    "# List"
   ]
  },
  {
   "cell_type": "markdown",
   "id": "e4405a69",
   "metadata": {},
   "source": [
    "# Reverse Order\n"
   ]
  },
  {
   "cell_type": "code",
   "execution_count": 1,
   "id": "75295504",
   "metadata": {},
   "outputs": [
    {
     "name": "stdout",
     "output_type": "stream",
     "text": [
      "[46, 12, 8, 7, 6, 45, 3, 2, 1]\n",
      "[1, 2, 3, 45, 6, 7, 8, 12, 46, 40]\n"
     ]
    }
   ],
   "source": [
    "a = [1,2,3,45,6,7,8,12,46]\n",
    "print(a[::-1])\n",
    "a.append(40)\n",
    "print(a)"
   ]
  },
  {
   "cell_type": "markdown",
   "id": "86244599",
   "metadata": {},
   "source": [
    "# Removing element"
   ]
  },
  {
   "cell_type": "code",
   "execution_count": 2,
   "id": "253f5c7b",
   "metadata": {},
   "outputs": [
    {
     "name": "stdout",
     "output_type": "stream",
     "text": [
      "[1, 2, 45, 6, 7, 8, 12, 46]\n"
     ]
    }
   ],
   "source": [
    "a = [1,2,3,45,6,7,8,12,46]\n",
    "a.remove(3)\n",
    "print(a)"
   ]
  },
  {
   "cell_type": "markdown",
   "id": "b8c1f815",
   "metadata": {},
   "source": [
    "# finding length in a list"
   ]
  },
  {
   "cell_type": "code",
   "execution_count": 3,
   "id": "8cefee66",
   "metadata": {},
   "outputs": [
    {
     "name": "stdout",
     "output_type": "stream",
     "text": [
      "9\n"
     ]
    }
   ],
   "source": [
    "a = [1,2,3,45,6,7,8,12,46]\n",
    "print(len(a))\n"
   ]
  },
  {
   "cell_type": "markdown",
   "id": "f50223c3",
   "metadata": {},
   "source": [
    "# if Conditions   "
   ]
  },
  {
   "cell_type": "code",
   "execution_count": 4,
   "id": "5cc8826b",
   "metadata": {},
   "outputs": [
    {
     "name": "stdout",
     "output_type": "stream",
     "text": [
      "Your Number, please: 3\n",
      "Number Not Found\n"
     ]
    }
   ],
   "source": [
    "a = int(input(\"Your Number, please: \"))\n",
    "if a <= 100:\n",
    "        print(\"Number Not Found\")\n",
    "else:\n",
    "            print(\"Number Found\")"
   ]
  },
  {
   "cell_type": "markdown",
   "id": "ec1cabdc",
   "metadata": {},
   "source": [
    "# for loop"
   ]
  },
  {
   "cell_type": "markdown",
   "id": "962a6fd7",
   "metadata": {},
   "source": [
    "# sum of list"
   ]
  },
  {
   "cell_type": "code",
   "execution_count": 15,
   "id": "bf5b874f",
   "metadata": {},
   "outputs": [
    {
     "name": "stdout",
     "output_type": "stream",
     "text": [
      "15\n"
     ]
    }
   ],
   "source": [
    "sum_1=[1,2,3,4,5]\n",
    "def sum_list(item):\n",
    "    sum_num=0\n",
    "    for y in item:\n",
    "        sum_num=sum_num+y\n",
    "    return sum_num\n",
    "print(sum_list(sum_1))\n"
   ]
  },
  {
   "cell_type": "code",
   "execution_count": 1,
   "id": "88ca4166",
   "metadata": {},
   "outputs": [
    {
     "name": "stdout",
     "output_type": "stream",
     "text": [
      "15\n"
     ]
    }
   ],
   "source": [
    "sum_1=[1,2,3,4,5]\n",
    "print(sum(sum_1))"
   ]
  },
  {
   "cell_type": "markdown",
   "id": "30f1d25c",
   "metadata": {},
   "source": [
    "# Multiplication Table"
   ]
  },
  {
   "cell_type": "code",
   "execution_count": 2,
   "id": "a32a95ad",
   "metadata": {},
   "outputs": [
    {
     "name": "stdout",
     "output_type": "stream",
     "text": [
      "Enter multipullication number: 3\n",
      "3 x 1 = 3\n",
      "3 x 2 = 6\n",
      "3 x 3 = 9\n",
      "3 x 4 = 12\n",
      "3 x 5 = 15\n",
      "3 x 6 = 18\n",
      "3 x 7 = 21\n",
      "3 x 8 = 24\n",
      "3 x 9 = 27\n",
      "3 x 10 = 30\n"
     ]
    }
   ],
   "source": [
    "a = int(input(\"Enter multipullication number: \"))\n",
    "b = 10\n",
    "for i in range(1,b+1):\n",
    "    print(str(a)+\" x \"+str(i)+\" = \"+str(a*i))\n",
    "    "
   ]
  },
  {
   "cell_type": "code",
   "execution_count": null,
   "id": "e1057468",
   "metadata": {},
   "outputs": [],
   "source": []
  }
 ],
 "metadata": {
  "kernelspec": {
   "display_name": "Python 3 (ipykernel)",
   "language": "python",
   "name": "python3"
  },
  "language_info": {
   "codemirror_mode": {
    "name": "ipython",
    "version": 3
   },
   "file_extension": ".py",
   "mimetype": "text/x-python",
   "name": "python",
   "nbconvert_exporter": "python",
   "pygments_lexer": "ipython3",
   "version": "3.9.7"
  }
 },
 "nbformat": 4,
 "nbformat_minor": 5
}
